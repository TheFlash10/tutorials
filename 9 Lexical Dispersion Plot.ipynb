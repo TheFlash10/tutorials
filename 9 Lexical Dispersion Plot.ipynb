{
 "cells": [
  {
   "cell_type": "markdown",
   "metadata": {},
   "source": [
    "# Creating a Lexical Dispersion Plot\n",
    "\n",
    "Given a piece of text, and a list of words, a lexical dispersion plot locates the occurrence of each of the words in the text."
   ]
  },
  {
   "cell_type": "code",
   "execution_count": 1,
   "metadata": {},
   "outputs": [],
   "source": [
    "# Import modules\n",
    "\n",
    "import cltk\n",
    "from nltk.tokenize import word_tokenize \n",
    "from cltk.tokenize.word import WordTokenizer\n",
    "from cltk.tokenize.indian_tokenizer import indian_punctuation_tokenize_regex as i_word\n",
    "import matplotlib.pyplot as plt"
   ]
  },
  {
   "cell_type": "markdown",
   "metadata": {},
   "source": [
    "## Parameters \n",
    "\n",
    "We will define a function by the name of `dispersionPlot` taking three parameters, `text`, `words`, and `lang`:\n",
    "\n",
    "* `text`, a string: the text based on which the lexical distribution plot is to be drawn\n",
    "* `words`, a list of string: a list of words, whose distribution across the text is to be plotted\n",
    "* `lang`, a string: the ISO 639-1 code of the language of the text\n",
    "\n",
    "The function returns void, and prints the plot."
   ]
  },
  {
   "cell_type": "code",
   "execution_count": 2,
   "metadata": {},
   "outputs": [],
   "source": [
    "def dispersionPlot(text, words, lang):\n",
    "    languages = [\"en\",\"bn\",\"hi\",\"la\",\"sa\"]\n",
    "    \"\"\"\n",
    "    en:English\n",
    "    bn:Bengali\n",
    "    hi:Hindi\n",
    "    la:Latin\n",
    "    sa:Sanskrit\n",
    "    \"\"\"\n",
    "    if lang in languages:\n",
    "        if lang in [\"en\",\"la\"]:\n",
    "            tokens = word_tokenize(text.lower())\n",
    "            for i in range(0,len(words)):\n",
    "                words[i] = words[i].lower()\n",
    "        if lang in [\"bn\",\"hi\",\"sa\"]:\n",
    "            tokens= i_word(text)\n",
    "\n",
    "    # Locating the matches of the words in the text\n",
    "        x_length = len(tokens)\n",
    "        y_length = len(words)\n",
    "        x_list = []\n",
    "        y_list = []\n",
    "        for i in range(0,x_length):\n",
    "            for j in range(0,y_length):\n",
    "                if tokens[i]==words[j]:\n",
    "                    x_list.append(i+1)\n",
    "                    y_list.append(j)\n",
    "\n",
    "    # Creation of Dispersion Plot with Matplotlib's pyplot\n",
    "        plt.plot(x_list, y_list, \"b|\", scalex=.1)\n",
    "        plt.yticks(list(range(len(words))), words, color=\"b\")\n",
    "        plt.ylim(-1, len(words))\n",
    "        plt.xlabel(\"Lexical Distribution\")\n",
    "        plt.show()\n",
    "\n",
    "    else:\n",
    "        print(\"Language not presently covered by CLTK or wrong language code\")"
   ]
  },
  {
   "cell_type": "markdown",
   "metadata": {},
   "source": [
    "## Explanation \n",
    "\n",
    "### Tokenisation\n",
    "Firstly, we check which language the function is present in. Then we try to sort them accordingly, sending the Indian ones one way, and English and Latin the other. Both these groups have been assigned their own separate tokenizer. We use the CLTK Indian tokenizer for Indian languages and the NLTK `word_tokenize` method for the other two languages.\n",
    "\n",
    "### Locating Matches and Plotting\n",
    "This is a pretty straightforward task where we select matches from the text and store their positions in the text in order to display them on the graph. This is achieved using simple loops. It is followed by basic plotting and manipulating data points to produce the lexical dispersion plot."
   ]
  },
  {
   "cell_type": "code",
   "execution_count": 3,
   "metadata": {},
   "outputs": [
    {
     "data": {
      "image/png": "[encoded data removed]",
      "text/plain": [
       "<matplotlib.figure.Figure at 0x1142cadd8>"
      ]
     },
     "metadata": {},
     "output_type": "display_data"
    }
   ],
   "source": [
    "# Test the function\n",
    "\n",
    "text = \"Lorem ipsum dolor sit amet, consectetur adipiscing elit. Cras at maximus dui. Sed mauris ipsum, gravida id velit at, lobortis aliquam magna. Nam feugiat nibh eget cursus rutrum. Fusce eu euismod turpis, in posuere elit. In pellentesque massa sit amet sem posuere, vel viverra justo suscipit. Aenean nibh sem, imperdiet nec sem sit amet, maximus euismod velit. Ut vitae ex mauris. Donec laoreet lorem at diam viverra dapibus. Suspendisse elementum rhoncus commodo. Donec massa purus, dignissim maximus laoreet in, pharetra euismod nulla.Nunc eu libero lacus. Class aptent taciti sociosqu ad litora torquent per conubia nostra, per inceptos himenaeos. Morbi eget tincidunt velit. Curabitur a libero vel felis maximus ultrices. Donec porta fringilla purus eget porttitor. In cursus lobortis sapien, sit amet euismod eros semper quis. Fusce luctus eleifend neque, gravida mollis massa fringilla sit amet. Nunc placerat, purus sit amet maximus sollicitudin, sapien sem suscipit elit, non aliquet nunc nisl in arcu.Quisque eu nisi interdum, pretium elit vel, dignissim est. Ut lobortis vehicula lectus, imperdiet tristique lorem pulvinar at. Phasellus leo justo, tempor at maximus a, vehicula et urna. Nunc blandit eros in dui venenatis placerat. Maecenas vehicula neque orci, at tempor elit vehicula et. Integer elementum, diam nec mattis porttitor, risus nibh vehicula quam, sit amet pellentesque quam ante commodo orci. Etiam sed dignissim tellus. Cras non ultrices velit, eget egestas justo. Ut rutrum condimentum lorem, ut auctor massa dictum eu. Morbi dictum eget eros sed varius. Nunc tristique mollis fermentum. Donec vel odio gravida, fringilla ante a, volutpat dolor. Vestibulum facilisis dictum magna id aliquam. Etiam ex ex, ultricies a dignissim vitae, sollicitudin nec orci. Nam eu augue et libero porttitor maximus volutpat a risus. Suspendisse eget mauris et mi tincidunt suscipit.\"\n",
    "words = [\"Lorem\", \"ipsum\", \"sit\"]\n",
    "dispersionPlot(text, words, \"la\")"
   ]
  }
 ],
 "metadata": {
  "kernelspec": {
   "display_name": "Python 3",
   "language": "python",
   "name": "python3"
  },
  "language_info": {
   "codemirror_mode": {
    "name": "ipython",
    "version": 3
   },
   "file_extension": ".py",
   "mimetype": "text/x-python",
   "name": "python",
   "nbconvert_exporter": "python",
   "pygments_lexer": "ipython3",
   "version": "3.6.4"
  }
 },
 "nbformat": 4,
 "nbformat_minor": 2
}
